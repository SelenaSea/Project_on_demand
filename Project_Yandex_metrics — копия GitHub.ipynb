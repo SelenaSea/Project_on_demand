{
 "cells": [
  {
   "cell_type": "markdown",
   "metadata": {},
   "source": [
    "PROJECT\n",
    "\n",
    "On-demand \n",
    "Исследование каналов привлечения\n",
    "\n"
   ]
  },
  {
   "cell_type": "markdown",
   "metadata": {},
   "source": [
    "ЗАДАНИЕ\n",
    "\n",
    "1/ Оценить количество ботов, которые заходят на наш сайт, и их долю от всего трафика.\n",
    "2/ Определить, с каких источников и в какое время суток чаще всего заходят роботы.\n",
    "\n",
    "Роботами могут быть пауки поисковых систем, которые индексируют контент блога, или же различные парсеры и агрегаторы контента. \n",
    "Яндекс.Метрика позволяет находить этих роботов и показывает их в отдельном параметрe ym:s:isRobot, а также считает их долю в специальной метрике ym:s:robotPercentage."
   ]
  },
  {
   "cell_type": "markdown",
   "metadata": {},
   "source": [
    "ИСХОДНЫЕ ДАННЫЕ\n",
    "\n",
    "Идентификатор счётчика Яндекс.Метрики сайта: 30177909\n",
    "\n",
    "токен и ID счетчика\n",
    "token = 'y0_8888888888888888888'\n",
    "counter_id = 30177909\n",
    "\n",
    "URL и параметры запроса\n",
    "url = 'https://api-metrika.yandex.net/st///////'\n",
    "headers = {'Authorization': 'OAuth ' + token}"
   ]
  },
  {
   "cell_type": "markdown",
   "metadata": {},
   "source": [
    "\n",
    "Разбьем задачу на подзадачи:\n",
    "\n",
    "\n",
    "1. Оценка количества ботов и их доли от всего трафика\n",
    "\n",
    "Подзадачи:\n",
    "\n",
    "1.1. Получить данные о посещениях сайта.\n",
    "\n",
    "1.2. Выделить метрику ym:s для определения ботов.\n",
    "\n",
    "1.3. Вычислить долю ботов от всего трафика (метрика ym:s).\n",
    "\n",
    "Ожидаемый результат:\n",
    "\n",
    "Доля ботов среди всех посещений сайта в процентах.\n",
    "Общее количество ботов, посещающих сайт.\n",
    "\n",
    "\n",
    "2. Определение источников и времени суток, когда чаще всего заходят роботы\n",
    "\n",
    "Подзадачи:\n",
    "\n",
    "2.1. Собрать данные по источникам трафика (dimensions: ym:s).\n",
    "\n",
    "2.2. Определить временные метки посещений (dimensions: ym:s).\n",
    "\n",
    "2.3. Сопоставить данные с метрикой ym:s для идентификации бот-трафика.\n",
    "\n",
    "2.4. Проанализировать распределение ботов по источникам трафика и времени суток.\n",
    "\n",
    "Ожидаемый результат:\n",
    "\n",
    "Источники трафика, наиболее часто используемые ботами.\n",
    "Время суток, когда наблюдается наибольшая активность ботов.\n",
    "\n"
   ]
  },
  {
   "cell_type": "code",
   "execution_count": 5,
   "metadata": {},
   "outputs": [],
   "source": [
    "import json\n",
    "import requests\n",
    "import pandas as pd\n",
    "import matplotlib.pyplot as plt\n",
    "\n",
    "# Токен и ID счетчика\n",
    "token = 'y0_8888888888888888888'\n",
    "counter_id = 30177909\n",
    "goal_id = 137595631\n",
    "\n",
    "# URL и заголовки запроса\n",
    "url = 'https://api-metrika.yandex.net/st///////'\n",
    "headers = {'Authorization': 'OAuth ' + token}\n",
    "\n",
    "# Параметры запроса для оценки количества ботов\n",
    "params_robots = {\n",
    "    'metrics': 'ym:s:visits,ym:s:robotPercentage',\n",
    "    'dimensions': 'ym:s:isRobot',\n",
    "    'date1': '2023-01-01',\n",
    "    'date2': '2023-12-31',\n",
    "    'ids': counter_id,\n",
    "    'accuracy': 'full',\n",
    "    'limit': 100000\n",
    "}\n",
    "\n",
    "# Выполняем запрос к API Яндекс.Метрики\n",
    "response = requests.get(url, params=params_robots, headers=headers)\n",
    "data_robots = response.json()\n"
   ]
  },
  {
   "cell_type": "code",
   "execution_count": 6,
   "metadata": {},
   "outputs": [
    {
     "data": {
      "text/html": [
       "<div>\n",
       "<style scoped>\n",
       "    .dataframe tbody tr th:only-of-type {\n",
       "        vertical-align: middle;\n",
       "    }\n",
       "\n",
       "    .dataframe tbody tr th {\n",
       "        vertical-align: top;\n",
       "    }\n",
       "\n",
       "    .dataframe thead th {\n",
       "        text-align: right;\n",
       "    }\n",
       "</style>\n",
       "<table border=\"1\" class=\"dataframe\">\n",
       "  <thead>\n",
       "    <tr style=\"text-align: right;\">\n",
       "      <th></th>\n",
       "      <th>isRobot</th>\n",
       "      <th>Visits</th>\n",
       "      <th>RobotPercentage</th>\n",
       "    </tr>\n",
       "  </thead>\n",
       "  <tbody>\n",
       "    <tr>\n",
       "      <th>0</th>\n",
       "      <td>Robots</td>\n",
       "      <td>264731.0</td>\n",
       "      <td>100.0</td>\n",
       "    </tr>\n",
       "    <tr>\n",
       "      <th>1</th>\n",
       "      <td>People</td>\n",
       "      <td>37889.0</td>\n",
       "      <td>0.0</td>\n",
       "    </tr>\n",
       "  </tbody>\n",
       "</table>\n",
       "</div>"
      ],
      "text/plain": [
       "  isRobot    Visits  RobotPercentage\n",
       "0  Robots  264731.0            100.0\n",
       "1  People   37889.0              0.0"
      ]
     },
     "metadata": {},
     "output_type": "display_data"
    },
    {
     "name": "stdout",
     "output_type": "stream",
     "text": [
      "Доля ботов от всего трафика: 87.48%\n"
     ]
    }
   ],
   "source": [
    "# Преобразуем данные в DataFrame\n",
    "df_robots = pd.DataFrame([{\n",
    "    'isRobot': item['dimensions'][0]['name'],\n",
    "    'Visits': item['metrics'][0],\n",
    "    'RobotPercentage': item['metrics'][1]\n",
    "} for item in data_robots['data']])\n",
    "display(df_robots)\n",
    "\n",
    "# Вычисляем долю ботов от всего трафика\n",
    "total_visits = df_robots['Visits'].sum()\n",
    "robot_visits = df_robots[df_robots['isRobot'] == 'Robots']['Visits'].sum()\n",
    "robot_percentage = (robot_visits / total_visits) * 100\n",
    "\n",
    "print(f\"Доля ботов от всего трафика: {robot_percentage:.2f}%\")"
   ]
  },
  {
   "cell_type": "code",
   "execution_count": 7,
   "metadata": {},
   "outputs": [
    {
     "data": {
      "text/html": [
       "<div>\n",
       "<style scoped>\n",
       "    .dataframe tbody tr th:only-of-type {\n",
       "        vertical-align: middle;\n",
       "    }\n",
       "\n",
       "    .dataframe tbody tr th {\n",
       "        vertical-align: top;\n",
       "    }\n",
       "\n",
       "    .dataframe thead th {\n",
       "        text-align: right;\n",
       "    }\n",
       "</style>\n",
       "<table border=\"1\" class=\"dataframe\">\n",
       "  <thead>\n",
       "    <tr style=\"text-align: right;\">\n",
       "      <th></th>\n",
       "      <th>Source</th>\n",
       "      <th>Hour</th>\n",
       "      <th>isRobot</th>\n",
       "      <th>Visits</th>\n",
       "    </tr>\n",
       "  </thead>\n",
       "  <tbody>\n",
       "    <tr>\n",
       "      <th>0</th>\n",
       "      <td>Direct traffic</td>\n",
       "      <td>04:00</td>\n",
       "      <td>Robots</td>\n",
       "      <td>11157.0</td>\n",
       "    </tr>\n",
       "    <tr>\n",
       "      <th>1</th>\n",
       "      <td>Direct traffic</td>\n",
       "      <td>06:00</td>\n",
       "      <td>Robots</td>\n",
       "      <td>11134.0</td>\n",
       "    </tr>\n",
       "    <tr>\n",
       "      <th>2</th>\n",
       "      <td>Direct traffic</td>\n",
       "      <td>03:00</td>\n",
       "      <td>Robots</td>\n",
       "      <td>10982.0</td>\n",
       "    </tr>\n",
       "    <tr>\n",
       "      <th>3</th>\n",
       "      <td>Direct traffic</td>\n",
       "      <td>02:00</td>\n",
       "      <td>Robots</td>\n",
       "      <td>10976.0</td>\n",
       "    </tr>\n",
       "    <tr>\n",
       "      <th>4</th>\n",
       "      <td>Direct traffic</td>\n",
       "      <td>05:00</td>\n",
       "      <td>Robots</td>\n",
       "      <td>10937.0</td>\n",
       "    </tr>\n",
       "  </tbody>\n",
       "</table>\n",
       "</div>"
      ],
      "text/plain": [
       "           Source   Hour isRobot   Visits\n",
       "0  Direct traffic  04:00  Robots  11157.0\n",
       "1  Direct traffic  06:00  Robots  11134.0\n",
       "2  Direct traffic  03:00  Robots  10982.0\n",
       "3  Direct traffic  02:00  Robots  10976.0\n",
       "4  Direct traffic  05:00  Robots  10937.0"
      ]
     },
     "metadata": {},
     "output_type": "display_data"
    }
   ],
   "source": [
    "\n",
    "\n",
    "# Параметры запроса для определения источников и времени суток ботов\n",
    "params_sources_time = {\n",
    "    'metrics': 'ym:s:visits',\n",
    "    'dimensions': 'ym:s:trafficSource,ym:s:visitHour,ym:s:isRobot',\n",
    "    'date1': '2023-01-01',\n",
    "    'date2': '2023-12-31',\n",
    "    'ids': counter_id,\n",
    "    'accuracy': 'full',\n",
    "    'limit': 100000\n",
    "}\n",
    "\n",
    "# Выполняем запрос к API Яндекс.Метрики\n",
    "response = requests.get(url, params=params_sources_time, headers=headers)\n",
    "data_sources_time = response.json()\n",
    "\n",
    "# Преобразуем данные в DataFrame\n",
    "df_sources_time = pd.DataFrame([{\n",
    "    'Source': item['dimensions'][0]['name'],\n",
    "    'Hour': item['dimensions'][1]['name'],\n",
    "    'isRobot': item['dimensions'][2]['name'],\n",
    "    'Visits': item['metrics'][0]\n",
    "} for item in data_sources_time['data']])\n",
    "\n",
    "display(df_sources_time.head())\n",
    "\n"
   ]
  },
  {
   "cell_type": "code",
   "execution_count": 8,
   "metadata": {},
   "outputs": [
    {
     "name": "stdout",
     "output_type": "stream",
     "text": [
      "Source\n",
      "Ad traffic                   580.0\n",
      "Cached page traffic           11.0\n",
      "Direct traffic            254039.0\n",
      "Internal traffic             103.0\n",
      "Link traffic                 297.0\n",
      "Messenger traffic              6.0\n",
      "Search engine traffic       9543.0\n",
      "Social network traffic       150.0\n",
      "Name: Visits, dtype: float64\n",
      "Hour\n",
      "00:00    11155.0\n",
      "01:00    10958.0\n",
      "02:00    11283.0\n",
      "03:00    11270.0\n",
      "04:00    11423.0\n",
      "05:00    11244.0\n",
      "06:00    11434.0\n",
      "07:00    11005.0\n",
      "08:00    10983.0\n",
      "09:00    10931.0\n",
      "10:00    10944.0\n",
      "11:00    11100.0\n",
      "12:00    10901.0\n",
      "13:00    10892.0\n",
      "14:00    11027.0\n",
      "15:00    10804.0\n",
      "16:00    10736.0\n",
      "17:00    10940.0\n",
      "18:00    10834.0\n",
      "19:00    10732.0\n",
      "20:00    11113.0\n",
      "21:00    11071.0\n",
      "22:00    11046.0\n",
      "23:00    10903.0\n",
      "Name: Visits, dtype: float64\n"
     ]
    }
   ],
   "source": [
    "# Фильтруем данные для ботов\n",
    "df_bots = df_sources_time[df_sources_time['isRobot'] == 'Robots']\n",
    "\n",
    "# Анализ распределения ботов по источникам трафика\n",
    "source_counts = df_bots.groupby('Source')['Visits'].sum()\n",
    "print(source_counts)\n",
    "\n",
    "# Анализ распределения ботов по времени суток\n",
    "hour_counts = df_bots.groupby('Hour')['Visits'].sum().sort_index()\n",
    "print(hour_counts)\n",
    "\n"
   ]
  },
  {
   "cell_type": "markdown",
   "metadata": {},
   "source": [
    "Попробуем визуализировать результат для лучшего понимания"
   ]
  },
  {
   "cell_type": "code",
   "execution_count": 9,
   "metadata": {},
   "outputs": [
    {
     "data": {
      "image/png": "[encoded data removed]",
      "text/plain": [
       "<Figure size 1400x600 with 2 Axes>"
      ]
     },
     "metadata": {},
     "output_type": "display_data"
    }
   ],
   "source": [
    "# Визуализация результатов\n",
    "plt.figure(figsize=(14, 6))\n",
    "\n",
    "plt.subplot(1, 2, 1)\n",
    "source_counts.plot(kind='bar')\n",
    "plt.title('Распределение ботов по источникам трафика')\n",
    "plt.xlabel('Источник трафика')\n",
    "plt.ylabel('Количество визитов')\n",
    "\n",
    "plt.subplot(1, 2, 2)\n",
    "hour_counts.plot(kind='bar')\n",
    "plt.title('Распределение ботов по времени суток')\n",
    "plt.xlabel('Час')\n",
    "plt.ylabel('Количество визитов')\n",
    "\n",
    "plt.tight_layout()\n",
    "plt.show()"
   ]
  },
  {
   "cell_type": "markdown",
   "metadata": {},
   "source": [
    "Исходя из полученных данных о распределении ботов по источникам трафика и времени суток, можно сделать следующие выводы:\n",
    "\n",
    "Распределение ботов по источникам трафика:\n",
    "\n",
    "Direct traffic имеет значительное преобладание среди всех источников трафика, с 254039 визитами. Это может указывать на то, что боты часто пытаются обратиться к сайту напрямую, обходя промежуточные источники.\n",
    "\n",
    "Search engine traffic идет следом с 9543 визитами. Это также важный аспект, так как поисковые системы часто индексируют содержимое сайта, что может привлекать ботов.\n",
    "\n",
    "Ad traffic, Link traffic и Social network traffic имеют гораздо меньшее количество визитов от ботов, что может указывать на низкую значимость этих источников для ботов.\n",
    "\n",
    "\n",
    "Распределение ботов по времени суток:\n",
    "\n",
    "В течение суток боты проявляют достаточно постоянную активность. \n",
    "Наибольшее количество визитов отмечается примерно с 00:00 до 06:00, где значения варьируются от 11155 до 11434 визитов.\n",
    "С 06:00 до 21:00 активность ботов остается на стабильно высоком уровне, после чего начинает постепенно снижаться.\n",
    "Время с 04:00 до 07:00 может быть наиболее активным периодом для взаимодействия с ботами, особенно учитывая высокие значения визитов в эти часы.\n",
    "\n",
    "Выводы:\n",
    "\n",
    "Рекомендовала бы провести дополнительный анализ, чтобы понять природу активности ботов (тип ботов: поисковые роботы, парсеры контента, спам-боты и т.д.) и возможные причины, по которым они предпочитают определенные источники трафика.\n",
    "\n",
    "Следует уделить внимание мерам защиты от ботов, так как они могут искажать статистику и оказывать негативное влияние на производительность сайта.\n",
    "\n",
    "Анализ времени активности ботов поможет оптимизировать процессы мониторинга и защиты сайта в наиболее критические часы."
   ]
  },
  {
   "cell_type": "markdown",
   "metadata": {},
   "source": []
  }
 ],
 "metadata": {
  "kernelspec": {
   "display_name": "Python 3",
   "language": "python",
   "name": "python3"
  },
  "language_info": {
   "codemirror_mode": {
    "name": "ipython",
    "version": 3
   },
   "file_extension": ".py",
   "mimetype": "text/x-python",
   "name": "python",
   "nbconvert_exporter": "python",
   "pygments_lexer": "ipython3",
   "version": "3.11.2"
  }
 },
 "nbformat": 4,
 "nbformat_minor": 2
}
